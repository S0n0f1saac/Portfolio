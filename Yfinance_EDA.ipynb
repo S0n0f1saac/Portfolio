{
  "nbformat": 4,
  "nbformat_minor": 0,
  "metadata": {
    "colab": {
      "provenance": [],
      "authorship_tag": "ABX9TyPjeWnFtpKaC9rR2XCB9ppA"
    },
    "kernelspec": {
      "name": "python3",
      "display_name": "Python 3"
    },
    "language_info": {
      "name": "python"
    }
  },
  "cells": [
    {
      "cell_type": "markdown",
      "source": [
        "This notebook explores the capabilities of the yfinance library!"
      ],
      "metadata": {
        "id": "7ya3YZ3WNQC9"
      }
    },
    {
      "cell_type": "code",
      "execution_count": null,
      "metadata": {
        "id": "r40hztQ6MwLp"
      },
      "outputs": [],
      "source": [
        "# Install the library\n",
        "!pip install yfinance"
      ]
    },
    {
      "cell_type": "markdown",
      "source": [
        "We will use pandas for exploratory data analysis, seaborn and matplotlib for visualizations, and pprint for my own sanity."
      ],
      "metadata": {
        "id": "bHbzEXvlOZI8"
      }
    },
    {
      "cell_type": "code",
      "source": [
        "# Imports\n",
        "import yfinance as yf\n",
        "import pandas as pd\n",
        "import seaborn as sns\n",
        "import matplotlib.pyplot as plt\n",
        "from pprint import pprint"
      ],
      "metadata": {
        "id": "jlcPwxwbNrNG"
      },
      "execution_count": 2,
      "outputs": []
    },
    {
      "cell_type": "code",
      "source": [
        "apple = yf.Ticker(\"AAPL\") # Creates a ticker object"
      ],
      "metadata": {
        "id": "ei24glmuOvUt"
      },
      "execution_count": null,
      "outputs": []
    },
    {
      "cell_type": "code",
      "source": [
        "pprint(apple.info)  # Returns a dictionary of stock details"
      ],
      "metadata": {
        "id": "CZvFsBlxS7yA"
      },
      "execution_count": null,
      "outputs": []
    },
    {
      "cell_type": "code",
      "source": [
        "data = yf.download(\"AAPL\", start=\"2024-01-01\", end=\"2025-01-31\") # Download historical data"
      ],
      "metadata": {
        "id": "J2hLdq-aUlND"
      },
      "execution_count": null,
      "outputs": []
    },
    {
      "cell_type": "code",
      "source": [
        "print(data.head()) # Data values are in USD"
      ],
      "metadata": {
        "id": "dZsUThKyU01f"
      },
      "execution_count": null,
      "outputs": []
    },
    {
      "cell_type": "code",
      "source": [
        "print(\"Current Price:\", apple.history(period=\"1d\")[\"Close\"].iloc[-1]) # Prints most recent closing price."
      ],
      "metadata": {
        "id": "uCfyzS13Wav4"
      },
      "execution_count": null,
      "outputs": []
    },
    {
      "cell_type": "markdown",
      "source": [
        "Available financial statements"
      ],
      "metadata": {
        "id": "Mtb20rXFZlBy"
      }
    },
    {
      "cell_type": "code",
      "source": [
        "pprint(apple.financials)  # Income statements (2020-2024)"
      ],
      "metadata": {
        "id": "AOrXSvvMWsOt"
      },
      "execution_count": null,
      "outputs": []
    },
    {
      "cell_type": "code",
      "source": [
        "pprint(apple.balance_sheet)  # Balance sheets (2020-2024)"
      ],
      "metadata": {
        "id": "pjTJjItEW4GT"
      },
      "execution_count": null,
      "outputs": []
    },
    {
      "cell_type": "code",
      "source": [
        "pprint(apple.cashflow)  # Cash flow statements (2020-2024)"
      ],
      "metadata": {
        "id": "lmhVxJj7W55F"
      },
      "execution_count": null,
      "outputs": []
    },
    {
      "cell_type": "markdown",
      "source": [
        "Explore stock options"
      ],
      "metadata": {
        "id": "XIZL1YV_Zt30"
      }
    },
    {
      "cell_type": "code",
      "source": [
        "pprint(apple.options)  # Available expiration dates"
      ],
      "metadata": {
        "id": "6mDHgCyhYR04"
      },
      "execution_count": null,
      "outputs": []
    },
    {
      "cell_type": "code",
      "source": [
        "opt_chain = apple.option_chain(\"2025-02-07\") # Input prefered expiration date as parameter"
      ],
      "metadata": {
        "id": "L8Pza_2-ZZ-J"
      },
      "execution_count": null,
      "outputs": []
    },
    {
      "cell_type": "code",
      "source": [
        "pprint(opt_chain.calls.head())  # Call options for expiration date\n",
        "pprint(opt_chain.puts.head())  # Put options for expiration date"
      ],
      "metadata": {
        "id": "6HGv9hd_ZZE6"
      },
      "execution_count": null,
      "outputs": []
    },
    {
      "cell_type": "markdown",
      "source": [
        "Get major holdings"
      ],
      "metadata": {
        "id": "KsY5dWeQad1A"
      }
    },
    {
      "cell_type": "code",
      "source": [
        "pprint(apple.institutional_holders)  # Institutional holdings"
      ],
      "metadata": {
        "id": "vj7AGYkcaLEu"
      },
      "execution_count": null,
      "outputs": []
    },
    {
      "cell_type": "code",
      "source": [
        "pprint(apple.mutualfund_holders)  # Mutual fund holdings"
      ],
      "metadata": {
        "id": "kdSagLAFaZPD"
      },
      "execution_count": null,
      "outputs": []
    },
    {
      "cell_type": "markdown",
      "source": [
        "Print recent news stories from yahoo finance"
      ],
      "metadata": {
        "id": "eG5D4dW0bv6C"
      }
    },
    {
      "cell_type": "code",
      "source": [
        "pprint(apple.news)"
      ],
      "metadata": {
        "id": "iC5rs2yXbzNs"
      },
      "execution_count": null,
      "outputs": []
    },
    {
      "cell_type": "markdown",
      "source": [
        "Visualizing historical data"
      ],
      "metadata": {
        "id": "mF2qI--Jcjpu"
      }
    },
    {
      "cell_type": "code",
      "source": [
        "# Plot Closing Price\n",
        "plt.figure(figsize=(12, 6))\n",
        "plt.plot(data.index, data['Close'], label=\"AAPL Closing Price\", color='blue')\n",
        "plt.xlabel(\"Date\")\n",
        "plt.ylabel(\"Closing Price (USD)\")\n",
        "plt.title(\"Apple (AAPL) Closing Price Over Time\")\n",
        "plt.legend()\n",
        "plt.grid(True)\n",
        "plt.show()"
      ],
      "metadata": {
        "id": "FHH3JyoYctue"
      },
      "execution_count": null,
      "outputs": []
    },
    {
      "cell_type": "code",
      "source": [
        "# Plot the trading volume\n",
        "plt.figure(figsize=(10, 4))\n",
        "plt.plot(data.index, data['Volume'], label='Trading Volume', color='orange')\n",
        "plt.xlabel('Date')\n",
        "plt.ylabel('Volume')\n",
        "plt.title('APPL Trading Volume Over Time')\n",
        "plt.legend()\n",
        "plt.grid(True)\n",
        "plt.xticks(fontsize=8)\n",
        "\n",
        "# Show the plot\n",
        "plt.show()"
      ],
      "metadata": {
        "id": "UuLL7R0Cpkk2"
      },
      "execution_count": null,
      "outputs": []
    },
    {
      "cell_type": "code",
      "source": [
        "# Visualize high and low prices\n",
        "plt.figure(figsize=(10, 6))\n",
        "plt.plot(data['High'], label='High Price', color='green')\n",
        "plt.plot(data['Low'], label='Low Price', color='blue')\n",
        "\n",
        "plt.title('High and Low Prices - ')\n",
        "plt.xlabel('Date')\n",
        "plt.ylabel('Price ($)')\n",
        "plt.legend()\n",
        "plt.grid(True)\n",
        "plt.xticks(fontsize=8)\n",
        "plt.show()"
      ],
      "metadata": {
        "id": "TRU-jf9drkKq"
      },
      "execution_count": null,
      "outputs": []
    }
  ]
}